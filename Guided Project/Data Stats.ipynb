{
 "cells": [
  {
   "cell_type": "markdown",
   "metadata": {},
   "source": [
    "---\n",
    "This project is about gathering data that helps developers determine what are the characteristics of the applications that have large number of downloads. The focus of analysis would be applications that are free to download and install and are directed toward English-speaking audiences."
   ]
  },
  {
   "cell_type": "markdown",
   "metadata": {},
   "source": [
    "\n",
    "Reading and transforming .csv files to iterables\n",
    "---\n",
    "\n",
    "---\n",
    "\n",
    "`explore_data` function takes 3 arguments(data set, start index, end index, boolean for showing total number of rows and columns)\n",
    "\n",
    "`csv_to_list` function takes a string (name of the csv file) as an argument and returns a list"
   ]
  },
  {
   "cell_type": "code",
   "execution_count": 8,
   "metadata": {},
   "outputs": [],
   "source": [
    "from csv import reader\n",
    "\n",
    "# this function returns a list from csv files\n",
    "def csv_to_list(csv_file: str) -> list:\n",
    "    with open(csv_file) as opened_file:\n",
    "        read_file = reader(opened_file)\n",
    "        data_set = list(read_file)\n",
    "    return data_set\n",
    "\n",
    "google = csv_to_list('googleplaystore.csv')\n",
    "apple = csv_to_list('AppleStore.csv')\n",
    "android_header = google[0]\n",
    "android_apps = google[1:]\n",
    "ios_header = apple[0]\n",
    "ios_apps = apple[1:]\n",
    "    \n",
    "def explore_data(data_set, start, end, rows_and_columns = False) -> None:    \n",
    "    dataset_slice = data_set[start:end]\n",
    "    for row in dataset_slice:\n",
    "        print(row)\n",
    "        print('\\n')\n",
    "    if rows_and_columns:\n",
    "        print('Number of rows: ', len(data_set))\n",
    "        print('Number of columns: ', len(data_set[0]))\n"
   ]
  },
  {
   "cell_type": "markdown",
   "metadata": {},
   "source": [
    "The code below prints extracted data from csv file where the first row shows the description\n",
    "of each column\n",
    "\n",
    "You can follow these links for [google play store csv file](https://www.kaggle.com/lava18/google-play-store-apps) and [apple app store csv file](https://www.kaggle.com/ramamet4/app-store-apple-data-set-10k-apps)"
   ]
  },
  {
   "cell_type": "code",
   "execution_count": 13,
   "metadata": {},
   "outputs": [
    {
     "name": "stdout",
     "output_type": "stream",
     "text": [
      "['App', 'Category', 'Rating', 'Reviews', 'Size', 'Installs', 'Type', 'Price', 'Content Rating', 'Genres', 'Last Updated', 'Current Ver', 'Android Ver']\n",
      "\n",
      "\n",
      "['Photo Editor & Candy Camera & Grid & ScrapBook', 'ART_AND_DESIGN', '4.1', '159', '19M', '10,000+', 'Free', '0', 'Everyone', 'Art & Design', 'January 7, 2018', '1.0.0', '4.0.3 and up']\n",
      "\n",
      "\n",
      "['Coloring book moana', 'ART_AND_DESIGN', '3.9', '967', '14M', '500,000+', 'Free', '0', 'Everyone', 'Art & Design;Pretend Play', 'January 15, 2018', '2.0.0', '4.0.3 and up']\n",
      "\n",
      "\n",
      "['U Launcher Lite – FREE Live Cool Themes, Hide Apps', 'ART_AND_DESIGN', '4.7', '87510', '8.7M', '5,000,000+', 'Free', '0', 'Everyone', 'Art & Design', 'August 1, 2018', '1.2.4', '4.0.3 and up']\n",
      "\n",
      "\n"
     ]
    }
   ],
   "source": [
    "explore_data(android_apps, 0, 4)"
   ]
  },
  {
   "cell_type": "markdown",
   "metadata": {},
   "source": [
    "A [certain discussion](https://www.kaggle.com/lava18/google-play-store-apps/discussion/66015) says that a row has a\n",
    "missing field in one of its columns.\n",
    "\n",
    "We can use the code below to see the contents of the row mentioned\n",
    "`explore_data(google, 10473, 10474)`\n",
    "\n",
    "Precise data is needed to get reliable results in data analysis thus we need to delete the row with faulty contents.\n",
    "Now we'll hold the deletion of the row to think about what else can we do.\n"
   ]
  },
  {
   "cell_type": "code",
   "execution_count": 12,
   "metadata": {},
   "outputs": [
    {
     "name": "stdout",
     "output_type": "stream",
     "text": [
      "['Life Made WI-Fi Touchscreen Photo Frame', '1.9', '19', '3.0M', '1,000+', 'Free', '0', 'Everyone', '', 'February 11, 2018', '1.0.19', '4.0 and up']\n",
      "\n",
      "\n",
      "['Jazz Wi-Fi', 'COMMUNICATION', '3.4', '49', '4.0M', '10,000+', 'Free', '0', 'Everyone', 'Communication', 'February 10, 2017', '0.1', '2.3 and up']\n",
      "\n",
      "\n",
      "['Xposed Wi-Fi-Pwd', 'PERSONALIZATION', '3.5', '1042', '404k', '100,000+', 'Free', '0', 'Everyone', 'Personalization', 'August 5, 2014', '3.0.0', '4.0.3 and up']\n",
      "\n",
      "\n",
      "['osmino Wi-Fi: free WiFi', 'TOOLS', '4.2', '134203', '4.1M', '10,000,000+', 'Free', '0', 'Everyone', 'Tools', 'August 7, 2018', '6.06.14', '4.4 and up']\n",
      "\n",
      "\n",
      "['Sat-Fi Voice', 'COMMUNICATION', '3.4', '37', '14M', '1,000+', 'Free', '0', 'Everyone', 'Communication', 'November 21, 2014', '2.2.1.5', '2.2 and up']\n",
      "\n",
      "\n",
      "['Wi-Fi Visualizer', 'TOOLS', '3.9', '132', '2.6M', '50,000+', 'Free', '0', 'Everyone', 'Tools', 'May 17, 2017', '0.0.9', '2.3 and up']\n",
      "\n",
      "\n",
      "['Lennox iComfort Wi-Fi', 'LIFESTYLE', '3.0', '552', '7.6M', '50,000+', 'Free', '0', 'Everyone', 'Lifestyle', 'March 22, 2017', '2.0.15', '2.3.3 and up']\n",
      "\n",
      "\n",
      "['Sci-Fi Sounds and Ringtones', 'PERSONALIZATION', '3.6', '128', '11M', '10,000+', 'Free', '0', 'Everyone', 'Personalization', 'September 27, 2017', '4.0', '4.0 and up']\n",
      "\n",
      "\n",
      "['Sci Fi Sounds', 'FAMILY', '3.2', '4', '8.0M', '1,000+', 'Free', '0', 'Everyone', 'Entertainment', 'November 2, 2017', '1.0', '4.0 and up']\n",
      "\n",
      "\n",
      "['Free Wi-fi HotspoT', 'COMMUNICATION', '4.1', '382', '2.3M', '50,000+', 'Free', '0', 'Everyone', 'Communication', 'July 20, 2018', '2.5', '4.0 and up']\n",
      "\n",
      "\n"
     ]
    }
   ],
   "source": [
    "explore_data(android_apps, 10472, 10473)\n",
    "del android_apps[10472]\n",
    "explore_data(android_apps, 10470, 10479)"
   ]
  },
  {
   "cell_type": "markdown",
   "metadata": {},
   "source": [
    "Removing duplicate data entry\n",
    "---\n",
    "\n",
    "---\n",
    "The function `remove_duplicate` removes duplicates from the data set. It takes 4 criterion (data set, number of ratings, last version update, current version) for removal to make sure that only the updated data entry will remain."
   ]
  },
  {
   "cell_type": "raw",
   "metadata": {},
   "source": [
    "# get the names first. for removal get the ratings of the name, sort, leave the highest\n",
    "def select_dupicate(data_set):\n",
    "    uniques = []\n",
    "    duplicates = []\n",
    "    for row in data_set:\n",
    "        if row[0] not in uniques:\n",
    "            uniques.append(row[0])\n",
    "        else:\n",
    "            duplicates.append(row)\n",
    "    print(len(uniques))\n",
    "    print(len(duplicates))\n",
    "    return uniques\n",
    "\n",
    "def sort_by_review_count(rating_list, index):\n",
    "    return max([float(row[index]) for row in rating_list])\n",
    "    \n",
    "# retain highest review count\n",
    "def remove_duplicate(name_list, data_set):\n",
    "    for name in name_list:\n",
    "        items_for_removal = []\n",
    "        # select names\n",
    "        for row in data_set:\n",
    "            if row[0] == name:\n",
    "                items_for_removal.append(row)\n",
    "                \n",
    "        # process selected names for removal\n",
    "        for item in items_for_removal:\n",
    "            if item in data_set:\n",
    "                data_set.remove(item)\n",
    "        \n",
    "            \n",
    "\n",
    "select_dupicate(google)"
   ]
  },
  {
   "cell_type": "code",
   "execution_count": 14,
   "metadata": {},
   "outputs": [
    {
     "name": "stdout",
     "output_type": "stream",
     "text": [
      "9659\n",
      "10840\n",
      "9659 9659\n",
      "10840\n"
     ]
    }
   ],
   "source": [
    "# cleaning data with guide wtf super efficient\n",
    "def clean_dict(data_set):\n",
    "    reviews_max = {}\n",
    "    for row in data_set:\n",
    "        name = row[0]\n",
    "        n_reviews = float(row[3])\n",
    "        if name in reviews_max and reviews_max[name] < n_reviews:\n",
    "            reviews_max[name] = n_reviews\n",
    "        if name not in reviews_max:\n",
    "            reviews_max[name] = n_reviews\n",
    "    # return dict of highest review count with header removed\n",
    "    return reviews_max\n",
    "\n",
    "new_rev = clean_dict(android_apps)\n",
    "print(len(new_rev))\n",
    "print(len(android_apps))\n",
    "\n",
    "def clean_data(data_set):\n",
    "    cleaned_data = []\n",
    "    already_added =[]\n",
    "    \n",
    "    for row in data_set:\n",
    "        name = row[0]\n",
    "        n_reviews = float(row[3])\n",
    "        \n",
    "        if name not in already_added and n_reviews == new_rev[name]:\n",
    "            cleaned_data.append(row)\n",
    "            already_added.append(name)\n",
    "    return [cleaned_data, already_added]\n",
    "\n",
    "new_clean = clean_data(android_apps)\n",
    "print(len(new_clean[0]), len(new_clean[1]))\n",
    "print(len(android_apps))"
   ]
  },
  {
   "cell_type": "code",
   "execution_count": 12,
   "metadata": {},
   "outputs": [
    {
     "name": "stdout",
     "output_type": "stream",
     "text": [
      "[['Photo Editor & Candy Camera & Grid & ScrapBook', 'ART_AND_DESIGN', '4.1', '159', '19M', '10,000+', 'Free', '0', 'Everyone', 'Art & Design', 'January 7, 2018', '1.0.0', '4.0.3 and up'], ['Coloring book moana', 'ART_AND_DESIGN', '3.9', '967', '14M', '500,000+', 'Free', '0', 'Everyone', 'Art & Design;Pretend Play', 'January 15, 2018', '2.0.0', '4.0.3 and up'], ['U Launcher Lite – FREE Live Cool Themes, Hide Apps', 'ART_AND_DESIGN', '4.7', '87510', '8.7M', '5,000,000+', 'Free', '0', 'Everyone', 'Art & Design', 'August 1, 2018', '1.2.4', '4.0.3 and up'], ['Sketch - Draw & Paint', 'ART_AND_DESIGN', '4.5', '215644', '25M', '50,000,000+', 'Free', '0', 'Teen', 'Art & Design', 'June 8, 2018', 'Varies with device', '4.2 and up'], ['Pixel Draw - Number Art Coloring Book', 'ART_AND_DESIGN', '4.3', '967', '2.8M', '100,000+', 'Free', '0', 'Everyone', 'Art & Design;Creativity', 'June 20, 2018', '1.1', '4.4 and up'], ['Paper flowers instructions', 'ART_AND_DESIGN', '4.4', '167', '5.6M', '50,000+', 'Free', '0', 'Everyone', 'Art & Design', 'March 26, 2017', '1.0', '2.3 and up']] [['Photo Editor & Candy Camera & Grid & ScrapBook', 'ART_AND_DESIGN', '4.1', '159', '19M', '10,000+', 'Free', '0', 'Everyone', 'Art & Design', 'January 7, 2018', '1.0.0', '4.0.3 and up'], ['Coloring book moana', 'ART_AND_DESIGN', '3.9', '967', '14M', '500,000+', 'Free', '0', 'Everyone', 'Art & Design;Pretend Play', 'January 15, 2018', '2.0.0', '4.0.3 and up'], ['U Launcher Lite – FREE Live Cool Themes, Hide Apps', 'ART_AND_DESIGN', '4.7', '87510', '8.7M', '5,000,000+', 'Free', '0', 'Everyone', 'Art & Design', 'August 1, 2018', '1.2.4', '4.0.3 and up'], ['Sketch - Draw & Paint', 'ART_AND_DESIGN', '4.5', '215644', '25M', '50,000,000+', 'Free', '0', 'Teen', 'Art & Design', 'June 8, 2018', 'Varies with device', '4.2 and up'], ['Pixel Draw - Number Art Coloring Book', 'ART_AND_DESIGN', '4.3', '967', '2.8M', '100,000+', 'Free', '0', 'Everyone', 'Art & Design;Creativity', 'June 20, 2018', '1.1', '4.4 and up'], ['Paper flowers instructions', 'ART_AND_DESIGN', '4.4', '167', '5.6M', '50,000+', 'Free', '0', 'Everyone', 'Art & Design', 'March 26, 2017', '1.0', '2.3 and up']] 215644.0\n"
     ]
    }
   ],
   "source": [
    "# test process for leaving only the highest review count\n",
    "def sort_by_review_count(rating_list, index):\n",
    "    return max([float(row[index]) for row in rating_list])\n",
    "\n",
    "dum = [row for row in google[1:7]]\n",
    "dum2 = list(dum)\n",
    "new_max = sort_by_review_count(dum2, 3)\n",
    "print(dum, dum2, new_max)"
   ]
  },
  {
   "cell_type": "code",
   "execution_count": 5,
   "metadata": {},
   "outputs": [
    {
     "name": "stdout",
     "output_type": "stream",
     "text": [
      "20\n",
      "[('Coloring book moana', 'ART_AND_DESIGN', '3.9', '967', '14M', '500,000+', 'Free', '0', 'Everyone', 'Art & Design;Pretend Play', 'January 15, 2018', '2.0.0', '4.0.3 and up')]\n"
     ]
    }
   ],
   "source": [
    "# isolate faulty rows\n",
    "dummy = []\n",
    "for i in range(20):\n",
    "    dummy.append(google_data[2])\n",
    "print(len(dummy))\n",
    "def delete_duplicates(data_set):\n",
    "    new_list = list(set([tuple(row) for row in data_set]))"
   ]
  }
 ],
 "metadata": {
  "kernelspec": {
   "display_name": "Python 3",
   "language": "python",
   "name": "python3"
  },
  "language_info": {
   "codemirror_mode": {
    "name": "ipython",
    "version": 3
   },
   "file_extension": ".py",
   "mimetype": "text/x-python",
   "name": "python",
   "nbconvert_exporter": "python",
   "pygments_lexer": "ipython3",
   "version": "3.8.0"
  }
 },
 "nbformat": 4,
 "nbformat_minor": 2
}
