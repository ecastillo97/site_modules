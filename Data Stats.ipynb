{
 "cells": [
  {
   "cell_type": "markdown",
   "metadata": {},
   "source": [
    "---\n",
    "This project is about gathering data that helps developers determine what are the characteristics of the applications that have large number of downloads. The focus of analysis would be applications that are free to download and install and are directed toward English-speaking audiences."
   ]
  },
  {
   "cell_type": "markdown",
   "metadata": {},
   "source": [
    "\n",
    "Reading and transforming .csv files to iterables\n",
    "---\n",
    "\n",
    "---\n",
    "\n",
    "`explore_data` function takes 3 arguments(data set, start index, end index, boolean for showing total number of rows and columns)\n",
    "\n",
    "`csv_to_list` function takes a string (name of the csv file) as an argument and returns a list"
   ]
  },
  {
   "cell_type": "code",
   "execution_count": 12,
   "metadata": {},
   "outputs": [],
   "source": [
    "from csv import reader\n",
    "\n",
    "# this function returns a list from csv files\n",
    "def csv_to_list(csv_file: str) -> list:\n",
    "    with open(csv_file) as opened_file:\n",
    "        read_file = reader(opened_file)\n",
    "        data_set = list(read_file)\n",
    "    return data_set\n",
    "\n",
    "# google data\n",
    "google = csv_to_list('googleplaystore.csv')\n",
    "apple = csv_to_list('AppleStore.csv')\n",
    "    \n",
    "def explore_data(data_set, start, end, rows_and_columns = False) -> None:    \n",
    "    dataset_slice = data_set[start:end]\n",
    "    for row in dataset_slice:\n",
    "        print(row)\n",
    "        print('\\n')\n",
    "    if rows_and_columns:\n",
    "        print('Number of rows: ', len(data_set))\n",
    "        print('Number of columns: ', len(data_set[0]))\n"
   ]
  },
  {
   "cell_type": "markdown",
   "metadata": {},
   "source": [
    "The code below prints extracted data from csv file where the first row shows the description\n",
    "of each column\n",
    "\n",
    "You can follow these links for [google play store csv file](https://www.kaggle.com/lava18/google-play-store-apps) and [apple app store csv file](https://www.kaggle.com/ramamet4/app-store-apple-data-set-10k-apps)"
   ]
  },
  {
   "cell_type": "code",
   "execution_count": 13,
   "metadata": {},
   "outputs": [
    {
     "name": "stdout",
     "output_type": "stream",
     "text": [
      "['App', 'Category', 'Rating', 'Reviews', 'Size', 'Installs', 'Type', 'Price', 'Content Rating', 'Genres', 'Last Updated', 'Current Ver', 'Android Ver']\n",
      "\n",
      "\n",
      "['Photo Editor & Candy Camera & Grid & ScrapBook', 'ART_AND_DESIGN', '4.1', '159', '19M', '10,000+', 'Free', '0', 'Everyone', 'Art & Design', 'January 7, 2018', '1.0.0', '4.0.3 and up']\n",
      "\n",
      "\n",
      "['Coloring book moana', 'ART_AND_DESIGN', '3.9', '967', '14M', '500,000+', 'Free', '0', 'Everyone', 'Art & Design;Pretend Play', 'January 15, 2018', '2.0.0', '4.0.3 and up']\n",
      "\n",
      "\n",
      "['U Launcher Lite – FREE Live Cool Themes, Hide Apps', 'ART_AND_DESIGN', '4.7', '87510', '8.7M', '5,000,000+', 'Free', '0', 'Everyone', 'Art & Design', 'August 1, 2018', '1.2.4', '4.0.3 and up']\n",
      "\n",
      "\n"
     ]
    }
   ],
   "source": [
    "explore_data(google, 0, 4)"
   ]
  },
  {
   "cell_type": "markdown",
   "metadata": {},
   "source": [
    "A [certain discussion](https://www.kaggle.com/lava18/google-play-store-apps/discussion/66015) says that a row has a\n",
    "missing field in one of its columns.\n",
    "\n",
    "We can use the code below to see the contents of the row mentioned\n",
    "`explore_data(google, 10473, 10474)`\n",
    "\n",
    "Precise data is needed to get reliable results in data analysis thus we need to delete the row with faulty contents.\n",
    "Now we'll hold the deletion of the row to think about what else can we do.\n"
   ]
  },
  {
   "cell_type": "code",
   "execution_count": 16,
   "metadata": {},
   "outputs": [
    {
     "name": "stdout",
     "output_type": "stream",
     "text": [
      "['Life Made WI-Fi Touchscreen Photo Frame', '1.9', '19', '3.0M', '1,000+', 'Free', '0', 'Everyone', '', 'February 11, 2018', '1.0.19', '4.0 and up']\n",
      "\n",
      "\n"
     ]
    }
   ],
   "source": [
    "explore_data(google, 10473, 10474)"
   ]
  },
  {
   "cell_type": "markdown",
   "metadata": {},
   "source": [
    "Removing duplicate data entry\n",
    "---\n",
    "\n",
    "---\n",
    "The function `remove_duplicate` removes duplicates from the data set. It takes 4 criterion (data set, number of ratings, last version update, current version) for removal to make sure that only the updated data entry will remain."
   ]
  },
  {
   "cell_type": "code",
   "execution_count": 21,
   "metadata": {},
   "outputs": [
    {
     "name": "stdout",
     "output_type": "stream",
     "text": [
      "10842\n",
      "0\n"
     ]
    }
   ],
   "source": [
    "# get the names first. for removal get the ratings of the name, sort, leave the highest\n",
    "def remove_duplicate(data_set, by_ratings = False, by_date = False, by_version = False):\n",
    "    uniques = []\n",
    "    duplicates = []\n",
    "    for row in data_set:\n",
    "        if row[0] not in uniques:\n",
    "            uniques.append(row)\n",
    "        else:\n",
    "            duplicates.append(row)\n",
    "    print(len(uniques))\n",
    "    #print(uniques)\n",
    "    print(len(duplicates))\n",
    "    #print(duplicates)\n",
    "\n",
    "remove_duplicate(google)"
   ]
  },
  {
   "cell_type": "code",
   "execution_count": 5,
   "metadata": {},
   "outputs": [
    {
     "name": "stdout",
     "output_type": "stream",
     "text": [
      "20\n",
      "[('Coloring book moana', 'ART_AND_DESIGN', '3.9', '967', '14M', '500,000+', 'Free', '0', 'Everyone', 'Art & Design;Pretend Play', 'January 15, 2018', '2.0.0', '4.0.3 and up')]\n"
     ]
    }
   ],
   "source": [
    "# isolate faulty rows\n",
    "dummy = []\n",
    "for i in range(20):\n",
    "    dummy.append(google_data[2])\n",
    "print(len(dummy))\n",
    "def delete_duplicates(data_set):\n",
    "    new_list = list(set([tuple(row) for row in data_set]))"
   ]
  }
 ],
 "metadata": {
  "kernelspec": {
   "display_name": "Python 3",
   "language": "python",
   "name": "python3"
  },
  "language_info": {
   "codemirror_mode": {
    "name": "ipython",
    "version": 3
   },
   "file_extension": ".py",
   "mimetype": "text/x-python",
   "name": "python",
   "nbconvert_exporter": "python",
   "pygments_lexer": "ipython3",
   "version": "3.8.0"
  }
 },
 "nbformat": 4,
 "nbformat_minor": 2
}
